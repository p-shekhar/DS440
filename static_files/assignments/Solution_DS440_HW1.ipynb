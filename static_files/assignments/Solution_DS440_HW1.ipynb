{
 "cells": [
  {
   "cell_type": "markdown",
   "metadata": {},
   "source": [
    "# Solutions for DS440 Assignment 1"
   ]
  },
  {
   "cell_type": "code",
   "execution_count": 100,
   "metadata": {},
   "outputs": [],
   "source": [
    "import numpy as np\n",
    "import matplotlib.pyplot as plt"
   ]
  },
  {
   "cell_type": "markdown",
   "metadata": {},
   "source": [
    "## Question 1:"
   ]
  },
  {
   "cell_type": "code",
   "execution_count": 41,
   "metadata": {},
   "outputs": [],
   "source": [
    "def question1(n):\n",
    "    if n == 0:\n",
    "        sequence = '[]'\n",
    "    else:\n",
    "        sequence = []\n",
    "        for i in range(n+1):\n",
    "            if i == 1:\n",
    "                sequence.append(0)\n",
    "            elif i == 2:\n",
    "                sequence.append(1)\n",
    "            elif i > 2:\n",
    "                sequence.append(sequence[-2] + sequence[-1])\n",
    "    return sequence"
   ]
  },
  {
   "cell_type": "code",
   "execution_count": 42,
   "metadata": {},
   "outputs": [
    {
     "name": "stdout",
     "output_type": "stream",
     "text": [
      "[0, 1, 1]\n"
     ]
    }
   ],
   "source": [
    "print(question1(3))"
   ]
  },
  {
   "cell_type": "markdown",
   "metadata": {},
   "source": [
    "## Question 2"
   ]
  },
  {
   "cell_type": "code",
   "execution_count": 43,
   "metadata": {},
   "outputs": [],
   "source": [
    "def question2(n):\n",
    "    newlist = []\n",
    "    temp_sum = 0\n",
    "\n",
    "    # Either of these would work for the mean\n",
    "    avg = np.mean(n)\n",
    "    avg = sum(n)/len(n)\n",
    "\n",
    "    # Either of these would work for the standard deviation\n",
    "    std = np.std(n)\n",
    "    for i in n:\n",
    "        temp_sum += (i - avg)**2\n",
    "    std = (temp_sum / len(n))**(1/2)\n",
    "\n",
    "    for j in n:\n",
    "        if j >= avg-std and j <= avg+std:\n",
    "            newlist.append(j)\n",
    "\n",
    "    return newlist"
   ]
  },
  {
   "cell_type": "code",
   "execution_count": 44,
   "metadata": {},
   "outputs": [
    {
     "name": "stdout",
     "output_type": "stream",
     "text": [
      "[2, 3, 4, 5]\n"
     ]
    }
   ],
   "source": [
    "print(question2([1,2,3,4,5,6]))"
   ]
  },
  {
   "cell_type": "markdown",
   "metadata": {},
   "source": [
    "## Question 3"
   ]
  },
  {
   "cell_type": "code",
   "execution_count": 95,
   "metadata": {},
   "outputs": [],
   "source": [
    "def question3(n):\n",
    "    # Part 1) Insert 0 in second to last position.\n",
    "    part1 = n\n",
    "    part1.insert(-1,0)\n",
    "\n",
    "    # Part 2) Remove any duplicates, keeping the first. Any of these ways would work.\n",
    "    part2 = []\n",
    "    for i in n:\n",
    "        if i not in part2:\n",
    "            part2.append(i)\n",
    "\n",
    "    part2 = []\n",
    "    [part2.append(i) for i in part1 if i not in part2]\n",
    "\n",
    "    part2 = list(dict.fromkeys(part1))\n",
    "    \n",
    "    # Part 3) Find the third smallest number's location.\n",
    "    temp_list = part2\n",
    "    for i in range(len(part2)):\n",
    "        if part2[i] == sorted(temp_list)[2]:\n",
    "            part3 = i\n",
    "\n",
    "    return part1, part2, part3"
   ]
  },
  {
   "cell_type": "code",
   "execution_count": 96,
   "metadata": {},
   "outputs": [],
   "source": [
    "part1, part2, part3 = question3([2, 3, 1, 5, 2, 5, 67, 8, 3, 8])"
   ]
  },
  {
   "cell_type": "markdown",
   "metadata": {},
   "source": [
    "### Part 1)"
   ]
  },
  {
   "cell_type": "code",
   "execution_count": 97,
   "metadata": {},
   "outputs": [
    {
     "name": "stdout",
     "output_type": "stream",
     "text": [
      "[2, 3, 1, 5, 2, 5, 67, 8, 3, 0, 8]\n"
     ]
    }
   ],
   "source": [
    "print(part1)"
   ]
  },
  {
   "cell_type": "markdown",
   "metadata": {},
   "source": [
    "### Part 2)"
   ]
  },
  {
   "cell_type": "code",
   "execution_count": 98,
   "metadata": {},
   "outputs": [
    {
     "name": "stdout",
     "output_type": "stream",
     "text": [
      "[2, 3, 1, 5, 67, 8, 0]\n"
     ]
    }
   ],
   "source": [
    "print(part2)"
   ]
  },
  {
   "cell_type": "markdown",
   "metadata": {},
   "source": [
    "### Part 3)"
   ]
  },
  {
   "cell_type": "code",
   "execution_count": 99,
   "metadata": {},
   "outputs": [
    {
     "name": "stdout",
     "output_type": "stream",
     "text": [
      "0\n"
     ]
    }
   ],
   "source": [
    "print(part3)"
   ]
  },
  {
   "cell_type": "markdown",
   "metadata": {},
   "source": [
    "## Question 4"
   ]
  },
  {
   "cell_type": "code",
   "execution_count": 132,
   "metadata": {},
   "outputs": [],
   "source": [
    "def question4(n):\n",
    "    # Part 1)\n",
    "    if n < 1:\n",
    "        return('Error: Given integer must be at least 1')\n",
    "    \n",
    "    else:\n",
    "        # Part 2a)\n",
    "        x = np.zeros((n,n), dtype = int)\n",
    "        \n",
    "        # Any of these would work\n",
    "        for i in range(x.shape[0]):\n",
    "            for j in range(x.shape[1]):\n",
    "                if i % 2 != j % 2:\n",
    "                    x[i][j] = 1\n",
    "\n",
    "        x[::2,1::2] = 1\n",
    "        x[1::2,::2] = 1\n",
    "        \n",
    "        return x"
   ]
  },
  {
   "cell_type": "markdown",
   "metadata": {},
   "source": [
    "### Part 1)"
   ]
  },
  {
   "cell_type": "code",
   "execution_count": 133,
   "metadata": {},
   "outputs": [
    {
     "name": "stdout",
     "output_type": "stream",
     "text": [
      "Error: Given integer must be at least 1\n"
     ]
    }
   ],
   "source": [
    "print(question4(0))"
   ]
  },
  {
   "cell_type": "markdown",
   "metadata": {},
   "source": [
    "### Part 2a)"
   ]
  },
  {
   "cell_type": "code",
   "execution_count": 134,
   "metadata": {},
   "outputs": [
    {
     "name": "stdout",
     "output_type": "stream",
     "text": [
      "[[0 1 0 1 0 1 0 1 0]\n",
      " [1 0 1 0 1 0 1 0 1]\n",
      " [0 1 0 1 0 1 0 1 0]\n",
      " [1 0 1 0 1 0 1 0 1]\n",
      " [0 1 0 1 0 1 0 1 0]\n",
      " [1 0 1 0 1 0 1 0 1]\n",
      " [0 1 0 1 0 1 0 1 0]\n",
      " [1 0 1 0 1 0 1 0 1]\n",
      " [0 1 0 1 0 1 0 1 0]]\n"
     ]
    }
   ],
   "source": [
    "x = question4(9)\n",
    "print(x)"
   ]
  },
  {
   "cell_type": "markdown",
   "metadata": {},
   "source": [
    "### Part 2b)"
   ]
  },
  {
   "cell_type": "code",
   "execution_count": 135,
   "metadata": {},
   "outputs": [
    {
     "data": {
      "image/png": "[encoded data removed]",
      "text/plain": [
       "<Figure size 432x288 with 1 Axes>"
      ]
     },
     "metadata": {
      "needs_background": "light"
     },
     "output_type": "display_data"
    }
   ],
   "source": [
    "plt.imshow(x,cmap = 'gray')\n",
    "plt.axis(\"off\")\n",
    "plt.show()"
   ]
  },
  {
   "cell_type": "code",
   "execution_count": null,
   "metadata": {},
   "outputs": [],
   "source": []
  }
 ],
 "metadata": {
  "kernelspec": {
   "display_name": "Python 3.8.8 ('base')",
   "language": "python",
   "name": "python3"
  },
  "language_info": {
   "codemirror_mode": {
    "name": "ipython",
    "version": 3
   },
   "file_extension": ".py",
   "mimetype": "text/x-python",
   "name": "python",
   "nbconvert_exporter": "python",
   "pygments_lexer": "ipython3",
   "version": "3.8.8"
  },
  "orig_nbformat": 4,
  "vscode": {
   "interpreter": {
    "hash": "dcaf81115ffdceb7dc2b04569a0461c2fce68e2be798fd7a896e181c37aa232f"
   }
  }
 },
 "nbformat": 4,
 "nbformat_minor": 2
}
